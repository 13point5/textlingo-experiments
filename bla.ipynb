{
 "cells": [
  {
   "cell_type": "code",
   "execution_count": 1,
   "metadata": {},
   "outputs": [
    {
     "name": "stderr",
     "output_type": "stream",
     "text": [
      "/Users/13point5/Library/Caches/pypoetry/virtualenvs/aya-hackathon-multilingual-txt-help-JFbjVxzF-py3.11/lib/python3.11/site-packages/tqdm/auto.py:21: TqdmWarning: IProgress not found. Please update jupyter and ipywidgets. See https://ipywidgets.readthedocs.io/en/stable/user_install.html\n",
      "  from .autonotebook import tqdm as notebook_tqdm\n"
     ]
    }
   ],
   "source": [
    "from transformers import AutoModelForSeq2SeqLM, AutoTokenizer"
   ]
  },
  {
   "cell_type": "code",
   "execution_count": 2,
   "metadata": {},
   "outputs": [],
   "source": [
    "MODEL_NAME = \"CohereForAI/aya-101\""
   ]
  },
  {
   "cell_type": "code",
   "execution_count": 4,
   "metadata": {},
   "outputs": [
    {
     "name": "stderr",
     "output_type": "stream",
     "text": [
      "Loading checkpoint shards: 100%|██████████| 11/11 [01:18<00:00,  7.11s/it]\n"
     ]
    }
   ],
   "source": [
    "tokenizer = AutoTokenizer.from_pretrained(MODEL_NAME)\n",
    "aya_model = AutoModelForSeq2SeqLM.from_pretrained(MODEL_NAME)"
   ]
  },
  {
   "cell_type": "code",
   "execution_count": 5,
   "metadata": {},
   "outputs": [
    {
     "name": "stdout",
     "output_type": "stream",
     "text": [
      "<pad> Aya is a multi-lingual language model.</s>\n"
     ]
    }
   ],
   "source": [
    "tur_inputs = tokenizer.encode(\"Translate to English: Aya cok dilli bir dil modelidir.\", return_tensors=\"pt\")\n",
    "tur_outputs = aya_model.generate(tur_inputs, max_new_tokens=128)\n",
    "print(tokenizer.decode(tur_outputs[0]))"
   ]
  },
  {
   "cell_type": "code",
   "execution_count": 6,
   "metadata": {},
   "outputs": [],
   "source": [
    "inputs = tokenizer.encode(\"How do I say 'eat atleast a little something' in Korean that sounds like 'boradu chom bogo'? But i am not good at the phonetic version so please think about possibilites of sounds that are similar and give some options with both the korean scriot and the correct phonetic so that I can read and verify it. Thank you.\", return_tensors=\"pt\")"
   ]
  },
  {
   "cell_type": "code",
   "execution_count": 7,
   "metadata": {},
   "outputs": [
    {
     "name": "stderr",
     "output_type": "stream",
     "text": [
      "/Users/13point5/Library/Caches/pypoetry/virtualenvs/aya-hackathon-multilingual-txt-help-JFbjVxzF-py3.11/lib/python3.11/site-packages/transformers/generation/utils.py:1178: UserWarning: Using the model-agnostic default `max_length` (=20) to control the generation length. We recommend setting `max_new_tokens` to control the maximum length of the generation.\n",
      "  warnings.warn(\n"
     ]
    }
   ],
   "source": [
    "outputs = aya_model.generate(inputs)"
   ]
  },
  {
   "cell_type": "code",
   "execution_count": 10,
   "metadata": {},
   "outputs": [
    {
     "data": {
      "text/plain": [
       "'<pad> Here are some possible Korean spellings and phonetic variations for the phrase \"'"
      ]
     },
     "execution_count": 10,
     "metadata": {},
     "output_type": "execute_result"
    }
   ],
   "source": [
    "tokenizer.decode(outputs[0])"
   ]
  },
  {
   "cell_type": "code",
   "execution_count": 17,
   "metadata": {},
   "outputs": [],
   "source": [
    "inputs = tokenizer.encode(\"How do I say 'eat atleast a little something' in Korean that sounds like 'boradu chom bogo'? But i am not good at the phonetic version so please think about possibilites of sounds that are similar. Thank you.\", return_tensors=\"pt\")"
   ]
  },
  {
   "cell_type": "code",
   "execution_count": 12,
   "metadata": {},
   "outputs": [],
   "source": [
    "outputs1 = aya_model.generate(inputs, max_new_tokens=200)"
   ]
  },
  {
   "cell_type": "code",
   "execution_count": 15,
   "metadata": {},
   "outputs": [
    {
     "name": "stdout",
     "output_type": "stream",
     "text": [
      "<pad> 'boradu chom bogo' is a Korean phrase that means 'at least eat something'\n",
      "The phrase is often used to express a desire to eat something, and it can be used to express a desire to eat something that is a little bit of something\n",
      "Here are some possible phonetic variations of the phrase: 1\n",
      "'boradu chom bogo' - 'bora-du' is a Korean phrase that means 'at least eat something'\n",
      "The phrase is often used to express a desire to eat something that is a little bit of something, and it can be used to express a desire to eat something that is a little bit of something\n",
      "2\n",
      "'boradu chom bogo' - 'bora-du' is a Korean phrase that means 'at least eat\n"
     ]
    }
   ],
   "source": [
    "print(\"\\n\".join(tokenizer.decode(outputs1[0]).split(\". \")))"
   ]
  },
  {
   "cell_type": "code",
   "execution_count": 18,
   "metadata": {},
   "outputs": [],
   "source": [
    "def helpMe(query):\n",
    "\tinputs = tokenizer.encode(query, return_tensors=\"pt\")\n",
    "\toutputs = aya_model.generate(inputs, max_new_tokens=200)\n",
    "\treturn \"\\n\".join(tokenizer.decode(outputs[0]).split(\". \"))"
   ]
  },
  {
   "cell_type": "code",
   "execution_count": 20,
   "metadata": {},
   "outputs": [
    {
     "name": "stdout",
     "output_type": "stream",
     "text": [
      "<pad> Korean script: 보라도 좀 먹고 Phonetic version: borado chomeom boggo</s>\n"
     ]
    }
   ],
   "source": [
    "print(helpMe(\"How do I say 'eat atleast a little something' in Korean that sounds like 'boradu chom bogo'? Please give the korean script and the phonetic version. Thank you.\"))"
   ]
  },
  {
   "cell_type": "markdown",
   "metadata": {},
   "source": [
    "### Mistake\n",
    "Prompt: How do I say 'eat atleast a little something' in Korean that sounds like 'boradu chom bogo'? Please give the korean script and the phonetic version. Thank you.\n",
    "\n",
    "Output: <pad> Korean script: 보라도 좀 먹고 Phonetic version: borado chomeom boggo</s>\n",
    "\n",
    "Expected Output: Korean script: 뭐라도 좀 먹고 Phonetic version: mwolado jom meoggo\n",
    "\n",
    "Mistakes: \n",
    "- It assumed bora was a thing, I think instead of understanding the mistake. \n",
    "- It did not fix the mistakes in the transliteration.\n",
    "- It even made a mistake in the transliteration. ('chom' in the prompt became 'chomeom')"
   ]
  },
  {
   "cell_type": "code",
   "execution_count": 21,
   "metadata": {},
   "outputs": [
    {
     "name": "stdout",
     "output_type": "stream",
     "text": [
      "<pad> 'boradu chom bogo' is written as '보라도 좀 먹어'.</s>\n"
     ]
    }
   ],
   "source": [
    "print(helpMe(\"How do I say 'eat atleast a little something' in Korean that sounds like 'boradu chom bogo'? But i am not good at the transliteration so please correct that too. Thank you.\"))"
   ]
  },
  {
   "cell_type": "code",
   "execution_count": null,
   "metadata": {},
   "outputs": [],
   "source": []
  }
 ],
 "metadata": {
  "kernelspec": {
   "display_name": "aya-hackathon-multilingual-txt-help-JFbjVxzF-py3.11",
   "language": "python",
   "name": "python3"
  },
  "language_info": {
   "codemirror_mode": {
    "name": "ipython",
    "version": 3
   },
   "file_extension": ".py",
   "mimetype": "text/x-python",
   "name": "python",
   "nbconvert_exporter": "python",
   "pygments_lexer": "ipython3",
   "version": "3.11.4"
  }
 },
 "nbformat": 4,
 "nbformat_minor": 2
}
